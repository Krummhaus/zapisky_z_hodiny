{
 "cells": [
  {
   "cell_type": "markdown",
   "metadata": {},
   "source": [
    "## Testování kódu v Pythonu"
   ]
  },
  {
   "cell_type": "markdown",
   "metadata": {},
   "source": [
    "## Proč testovat?\n",
    "\n",
    "Netestovaný kód s největší pravděpodobností nebude fungovat. Anebo bude, ale nebude dělat to, co se od něj očekává 🙀\n",
    "\n",
    "## Jak testovat?\n",
    "\n",
    "Musíme vědet jaké hodnoty máme dostat, očekáváný  a skutečný výsledek \n",
    "můžeme porovnat pomocí `assert`. Pokud se tyto hodnoty nebudou shodovat, vznikne chyba `AssertionError`."
   ]
  },
  {
   "cell_type": "code",
   "execution_count": 80,
   "metadata": {},
   "outputs": [
    {
     "name": "stdout",
     "output_type": "stream",
     "text": [
      "Kočičce je 18 lidských let\n"
     ]
    }
   ],
   "source": [
    "cat_age = 1\n",
    "if cat_age<=1:\n",
    "    human_age = cat_age*18\n",
    "    print(\"Kočičce je {} lidských let\" .format(human_age))\n",
    "elif 1<cat_age <=2:\n",
    "    human_age = 18+(cat_age-1)*7\n",
    "    print(\"Kočičce je {} lidských let\" .format(human_age))\n",
    "elif 2<cat_age<5:\n",
    "    human_age = 25+(cat_age-2)*5\n",
    "    print(\"Kočičce je {} lidských let\" .format(human_age))\n",
    "elif 5<=cat_age:\n",
    "    human_age = 40+(cat_age-5)*4\n",
    "    print(\"Kočičce je {} lidských let\" .format(human_age))\n",
    "    \n",
    "assert human_age == 18"
   ]
  },
  {
   "cell_type": "code",
   "execution_count": 81,
   "metadata": {},
   "outputs": [
    {
     "ename": "AssertionError",
     "evalue": "Věk nesedí! 430",
     "output_type": "error",
     "traceback": [
      "\u001b[0;31m---------------------------------------------------------------------------\u001b[0m",
      "\u001b[0;31mAssertionError\u001b[0m                            Traceback (most recent call last)",
      "\u001b[0;32m<ipython-input-81-ddc23f82fd65>\u001b[0m in \u001b[0;36m<module>\u001b[0;34m()\u001b[0m\n\u001b[1;32m     10\u001b[0m     \u001b[0mcatHumanAge\u001b[0m \u001b[0;34m=\u001b[0m \u001b[0;36m15\u001b[0m \u001b[0;34m+\u001b[0m \u001b[0mcatAge\u001b[0m\u001b[0;34m*\u001b[0m\u001b[0;36m5\u001b[0m\u001b[0;34m\u001b[0m\u001b[0m\n\u001b[1;32m     11\u001b[0m \u001b[0;34m\u001b[0m\u001b[0m\n\u001b[0;32m---> 12\u001b[0;31m \u001b[0;32massert\u001b[0m \u001b[0mcatHumanAge\u001b[0m \u001b[0;34m==\u001b[0m \u001b[0;36m428\u001b[0m\u001b[0;34m,\u001b[0m \u001b[0;34m'Věk nesedí! {}'\u001b[0m\u001b[0;34m.\u001b[0m\u001b[0mformat\u001b[0m\u001b[0;34m(\u001b[0m\u001b[0mcatHumanAge\u001b[0m\u001b[0;34m)\u001b[0m\u001b[0;34m\u001b[0m\u001b[0m\n\u001b[0m",
      "\u001b[0;31mAssertionError\u001b[0m: Věk nesedí! 430"
     ]
    }
   ],
   "source": [
    "catAge = 83\n",
    "\n",
    "if catAge == 0:\n",
    "    catHumanAge = \"nižší než 18\"\n",
    "elif catAge == 1:\n",
    "    catHumanAge = 18\n",
    "elif catAge == 2:\n",
    "    catHumanAge = 25\n",
    "elif catAge > 2:\n",
    "    catHumanAge = 15 + catAge*5\n",
    "    \n",
    "assert catHumanAge == 428, 'Věk nesedí! {}'.format(catHumanAge)"
   ]
  },
  {
   "cell_type": "code",
   "execution_count": 84,
   "metadata": {},
   "outputs": [],
   "source": [
    "def cat_age(years, months):\n",
    "    vek = 0\n",
    "    if years == 1:\n",
    "        vek += 18\n",
    "    if years == 2:\n",
    "        vek += 18+7\n",
    "    if years > 2:\n",
    "        vek += (18+7+(age - 2)*5)+months*(5/12)\n",
    "    if years == 0:\n",
    "        vek += months*(18/12)\n",
    "    if years == 1:\n",
    "        vek += 18+months*(7/12)\n",
    "    return vek"
   ]
  },
  {
   "cell_type": "code",
   "execution_count": 72,
   "metadata": {},
   "outputs": [
    {
     "ename": "AssertionError",
     "evalue": "Věk nesedí! 36.0",
     "output_type": "error",
     "traceback": [
      "\u001b[0;31m---------------------------------------------------------------------------\u001b[0m",
      "\u001b[0;31mAssertionError\u001b[0m                            Traceback (most recent call last)",
      "\u001b[0;32m<ipython-input-72-c393c43ad109>\u001b[0m in \u001b[0;36m<module>\u001b[0;34m()\u001b[0m\n\u001b[0;32m----> 1\u001b[0;31m \u001b[0;32massert\u001b[0m \u001b[0mcat_age\u001b[0m\u001b[0;34m(\u001b[0m\u001b[0;36m1\u001b[0m\u001b[0;34m,\u001b[0m\u001b[0;36m0\u001b[0m\u001b[0;34m)\u001b[0m \u001b[0;34m==\u001b[0m \u001b[0;36m18\u001b[0m\u001b[0;34m,\u001b[0m \u001b[0;34m'Věk nesedí! {}'\u001b[0m\u001b[0;34m.\u001b[0m\u001b[0mformat\u001b[0m\u001b[0;34m(\u001b[0m\u001b[0mcat_age\u001b[0m\u001b[0;34m(\u001b[0m\u001b[0;36m1\u001b[0m\u001b[0;34m,\u001b[0m\u001b[0;36m0\u001b[0m\u001b[0;34m)\u001b[0m\u001b[0;34m)\u001b[0m\u001b[0;34m\u001b[0m\u001b[0m\n\u001b[0m",
      "\u001b[0;31mAssertionError\u001b[0m: Věk nesedí! 36.0"
     ]
    }
   ],
   "source": [
    "assert cat_age(1,0) == 18, 'Věk nesedí! {}'.format(cat_age(1,0))"
   ]
  },
  {
   "cell_type": "code",
   "execution_count": 93,
   "metadata": {},
   "outputs": [],
   "source": [
    "def cat_age(years, months):\n",
    "    vek = 0\n",
    "    if years == 2:\n",
    "        vek += 18+7\n",
    "    if years > 2:\n",
    "        vek += (18+7+(years - 2)*5)+months*(5/12)\n",
    "    if years == 0:\n",
    "        vek += months*(18/12)\n",
    "    if years == 1:\n",
    "        vek += 18+months*(7/12)\n",
    "    return vek"
   ]
  },
  {
   "cell_type": "code",
   "execution_count": 90,
   "metadata": {},
   "outputs": [
    {
     "data": {
      "text/plain": [
       "430"
      ]
     },
     "execution_count": 90,
     "metadata": {},
     "output_type": "execute_result"
    }
   ],
   "source": [
    "age"
   ]
  },
  {
   "cell_type": "code",
   "execution_count": 95,
   "metadata": {},
   "outputs": [
    {
     "data": {
      "text/plain": [
       "83"
      ]
     },
     "execution_count": 95,
     "metadata": {},
     "output_type": "execute_result"
    }
   ],
   "source": [
    "years"
   ]
  },
  {
   "cell_type": "code",
   "execution_count": 89,
   "metadata": {},
   "outputs": [
    {
     "data": {
      "text/plain": [
       "430.0"
      ]
     },
     "execution_count": 89,
     "metadata": {},
     "output_type": "execute_result"
    }
   ],
   "source": [
    "(18+7+(83 - 2)*5)+0*(5/12)"
   ]
  },
  {
   "cell_type": "code",
   "execution_count": 94,
   "metadata": {},
   "outputs": [],
   "source": [
    "assert cat_age(1,0) == 18, 'Věk nesedí! {}'.format(cat_age(1,0))\n",
    "assert cat_age(2,0) == 25, 'Věk nesedí! {}'.format(cat_age(2,0))\n",
    "assert cat_age(83,0) == 430, 'Věk nesedí! {}'.format(cat_age(83,0))"
   ]
  },
  {
   "cell_type": "code",
   "execution_count": 74,
   "metadata": {},
   "outputs": [],
   "source": [
    "assert cat_age(1,0) == 18, 'Věk nesedí! {}'.format(cat_age(1,0))"
   ]
  },
  {
   "cell_type": "code",
   "execution_count": 75,
   "metadata": {},
   "outputs": [],
   "source": [
    "assert cat_age(0,5) == 7.5, 'Věk nesedí! {}'.format(cat_age(0,5))"
   ]
  },
  {
   "cell_type": "code",
   "execution_count": 76,
   "metadata": {},
   "outputs": [
    {
     "ename": "AssertionError",
     "evalue": "",
     "output_type": "error",
     "traceback": [
      "\u001b[0;31m---------------------------------------------------------------------------\u001b[0m",
      "\u001b[0;31mAssertionError\u001b[0m                            Traceback (most recent call last)",
      "\u001b[0;32m<ipython-input-76-3c3fd336b130>\u001b[0m in \u001b[0;36m<module>\u001b[0;34m()\u001b[0m\n\u001b[0;32m----> 1\u001b[0;31m \u001b[0;32massert\u001b[0m \u001b[0;36m3\u001b[0m\u001b[0;34m*\u001b[0m\u001b[0;36m0.1\u001b[0m \u001b[0;34m==\u001b[0m \u001b[0;36m0.3\u001b[0m\u001b[0;34m\u001b[0m\u001b[0m\n\u001b[0m",
      "\u001b[0;31mAssertionError\u001b[0m: "
     ]
    }
   ],
   "source": [
    "assert 3*0.1 == 0.3"
   ]
  },
  {
   "cell_type": "markdown",
   "metadata": {},
   "source": [
    "Některá desetinná čísla nemohou být přesně vyjádřena v desítkové soustavě, \n",
    "např. 1/3 a některá nemohou být v dvojkové, např. 1/10. \n",
    "Proto u `assert` použijeme přibližné porovnání, viz příklad.\n",
    "Pozn. `abs` je absolutní hodnota."
   ]
  },
  {
   "cell_type": "code",
   "execution_count": 77,
   "metadata": {},
   "outputs": [
    {
     "data": {
      "text/plain": [
       "True"
      ]
     },
     "execution_count": 77,
     "metadata": {},
     "output_type": "execute_result"
    }
   ],
   "source": [
    "abs(3*0.1 - 0.3) < 1e-9"
   ]
  },
  {
   "cell_type": "code",
   "execution_count": 78,
   "metadata": {},
   "outputs": [],
   "source": [
    "assert abs(3*0.1 - 0.3) < 1e-9"
   ]
  },
  {
   "cell_type": "code",
   "execution_count": 79,
   "metadata": {},
   "outputs": [],
   "source": [
    "assert abs(cat_age(0,5) - 7.5) < 1e-9"
   ]
  }
 ],
 "metadata": {
  "kernelspec": {
   "display_name": "Python 3",
   "language": "python",
   "name": "python3"
  },
  "language_info": {
   "codemirror_mode": {
    "name": "ipython",
    "version": 3
   },
   "file_extension": ".py",
   "mimetype": "text/x-python",
   "name": "python",
   "nbconvert_exporter": "python",
   "pygments_lexer": "ipython3",
   "version": "3.6.2"
  }
 },
 "nbformat": 4,
 "nbformat_minor": 2
}
